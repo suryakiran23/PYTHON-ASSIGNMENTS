{
  "cells": [
    {
      "cell_type": "markdown",
      "metadata": {
        "id": "view-in-github",
        "colab_type": "text"
      },
      "source": [
        "<a href=\"https://colab.research.google.com/github/suryakiran23/PYTHON-ASSIGNMENTS/blob/main/PYTHON_ASSIGMENT.ipynb\" target=\"_parent\"><img src=\"https://colab.research.google.com/assets/colab-badge.svg\" alt=\"Open In Colab\"/></a>"
      ]
    },
    {
      "cell_type": "markdown",
      "source": [
        "PYHTON ASSIGNMENT-1 (1012)\n"
      ],
      "metadata": {
        "id": "yPmyMS_z7g5j"
      },
      "id": "yPmyMS_z7g5j"
    },
    {
      "cell_type": "code",
      "execution_count": null,
      "id": "11130ad8",
      "metadata": {
        "id": "11130ad8",
        "outputId": "5e18cd54-ecf4-4579-de90-eec1c63730ff"
      },
      "outputs": [
        {
          "name": "stdout",
          "output_type": "stream",
          "text": [
            "[1, 4, 7, 3, 4]\n"
          ]
        }
      ],
      "source": [
        "KIRAN=[1,4,7,3,4]\n",
        "print(KIRAN)"
      ]
    },
    {
      "cell_type": "code",
      "execution_count": null,
      "id": "673aa184",
      "metadata": {
        "id": "673aa184",
        "outputId": "46818e4b-2cf0-4bea-a4ae-4de0818fa5c1"
      },
      "outputs": [
        {
          "name": "stdout",
          "output_type": "stream",
          "text": [
            "5\n"
          ]
        }
      ],
      "source": [
        "KIRAN=[1,4,7,3,4]\n",
        "print(len(KIRAN))"
      ]
    },
    {
      "cell_type": "code",
      "execution_count": null,
      "id": "b585a601",
      "metadata": {
        "id": "b585a601",
        "outputId": "217e5ac7-1035-4d62-9294-e3826949612f"
      },
      "outputs": [
        {
          "name": "stdout",
          "output_type": "stream",
          "text": [
            "[1, 4, 7, 3, 4]\n"
          ]
        }
      ],
      "source": [
        "KIRAN=list((1,4,7,3,4))\n",
        "print(KIRAN)"
      ]
    },
    {
      "cell_type": "code",
      "execution_count": null,
      "id": "75342e09",
      "metadata": {
        "id": "75342e09",
        "outputId": "dd91fec7-ffb2-46c5-f12f-c41e485c9e40"
      },
      "outputs": [
        {
          "name": "stdout",
          "output_type": "stream",
          "text": [
            "[1, 4, 7, 3, 4]\n",
            "<class 'list'>\n"
          ]
        }
      ],
      "source": [
        "KIRAN=list((1,4,7,3,4))\n",
        "print(KIRAN)\n",
        "print(type(KIRAN))"
      ]
    },
    {
      "cell_type": "code",
      "execution_count": null,
      "id": "31bd9580",
      "metadata": {
        "id": "31bd9580",
        "outputId": "2c645409-68b5-49e3-c6a2-7f4becdf6752"
      },
      "outputs": [
        {
          "name": "stdout",
          "output_type": "stream",
          "text": [
            "4\n",
            "3\n",
            "[1, 4, 7]\n",
            "[7, 3, 4]\n",
            "[1, 4, 7]\n",
            "[1, 4]\n"
          ]
        }
      ],
      "source": [
        "KIRAN=[1,4,7,3,4]\n",
        "print(KIRAN[1])\n",
        "print(KIRAN[-2])\n",
        "print(KIRAN[0:3])\n",
        "print(KIRAN[2:])\n",
        "print(KIRAN[:3])\n",
        "print(KIRAN[-5:-3])"
      ]
    },
    {
      "cell_type": "code",
      "execution_count": null,
      "id": "8a9b1860",
      "metadata": {
        "id": "8a9b1860",
        "outputId": "f0dd9525-91d4-40bc-d2c6-9a879a275a64"
      },
      "outputs": [
        {
          "name": "stdout",
          "output_type": "stream",
          "text": [
            "no it does not present \n"
          ]
        }
      ],
      "source": [
        "KIRAN=[1,4,7,3,4]\n",
        "if 5 in KIRAN:\n",
        "    print(\"yes it is present in the list\")\n",
        "else:\n",
        "    print(\"no it does not present \")"
      ]
    },
    {
      "cell_type": "code",
      "execution_count": null,
      "id": "a0774f60",
      "metadata": {
        "id": "a0774f60",
        "outputId": "7ad420c6-e983-4c63-fac2-3cf05a21e92f"
      },
      "outputs": [
        {
          "name": "stdout",
          "output_type": "stream",
          "text": [
            "[1, 'hello', 1, 2, 4]\n"
          ]
        }
      ],
      "source": [
        "KIRAN=[1,4,7,3,4]\n",
        "KIRAN[1]=\"hello\"\n",
        "KIRAN[2:4]=1,2\n",
        "print(KIRAN)"
      ]
    },
    {
      "cell_type": "code",
      "execution_count": null,
      "id": "181847c8",
      "metadata": {
        "id": "181847c8",
        "outputId": "c2c5b341-362a-44e6-bbae-91000c8bd3a3"
      },
      "outputs": [
        {
          "name": "stdout",
          "output_type": "stream",
          "text": [
            "[1, 'orange', 4, 7, 3, 4]\n"
          ]
        }
      ],
      "source": [
        "KIRAN=[1,4,7,3,4]\n",
        "KIRAN.insert(1,\"orange\")\n",
        "print(KIRAN)"
      ]
    },
    {
      "cell_type": "code",
      "execution_count": null,
      "id": "2e7f03b3",
      "metadata": {
        "id": "2e7f03b3",
        "outputId": "08c69e00-b49b-4d6b-fce3-71a8acb64dc7"
      },
      "outputs": [
        {
          "name": "stdout",
          "output_type": "stream",
          "text": [
            "[1, 4, 7, 3, 4, 'melon']\n"
          ]
        }
      ],
      "source": [
        "KIRAN=[1,4,7,3,4]\n",
        "KIRAN.append(\"melon\")\n",
        "print(KIRAN)"
      ]
    },
    {
      "cell_type": "code",
      "execution_count": null,
      "id": "f7891ecc",
      "metadata": {
        "id": "f7891ecc",
        "outputId": "0a5ed6cf-087d-4853-e85e-08456a4f5b52"
      },
      "outputs": [
        {
          "name": "stdout",
          "output_type": "stream",
          "text": [
            "[1, 4, 7, 3, 4, 'hey', 'hello']\n",
            "[1, 4, 7, 3, 4, 'hey', 'hello', 56, 76, 89]\n"
          ]
        }
      ],
      "source": [
        "KIRAN=[1,4,7,3,4]\n",
        "a=[\"hey\",\"hello\"]\n",
        "KIRAN.extend(a)\n",
        "print(KIRAN)\n",
        "b=(56,76,89)\n",
        "KIRAN.extend(b)\n",
        "print(KIRAN)"
      ]
    },
    {
      "cell_type": "code",
      "execution_count": null,
      "id": "2944fce2",
      "metadata": {
        "id": "2944fce2",
        "outputId": "0990b416-f1db-410a-f40c-3021252012b4"
      },
      "outputs": [
        {
          "name": "stdout",
          "output_type": "stream",
          "text": [
            "[4, 7, 3, 4]\n"
          ]
        }
      ],
      "source": [
        "KIRAN=[1,4,7,3,4]\n",
        "KIRAN.remove(1)\n",
        "print(KIRAN)"
      ]
    },
    {
      "cell_type": "code",
      "execution_count": null,
      "id": "f295a53f",
      "metadata": {
        "id": "f295a53f",
        "outputId": "ed406741-b5bf-4bee-cb84-9bb750111376"
      },
      "outputs": [
        {
          "name": "stdout",
          "output_type": "stream",
          "text": [
            "[1, 7, 3, 4]\n"
          ]
        }
      ],
      "source": [
        "KIRAN=[1,4,7,3,4]\n",
        "KIRAN.pop(1)\n",
        "print(KIRAN)"
      ]
    },
    {
      "cell_type": "code",
      "execution_count": null,
      "id": "9cf1837c",
      "metadata": {
        "id": "9cf1837c",
        "outputId": "b122d94b-78ec-469f-a36e-a869600ff839"
      },
      "outputs": [
        {
          "name": "stdout",
          "output_type": "stream",
          "text": [
            "[1, 7, 3, 4]\n"
          ]
        },
        {
          "ename": "NameError",
          "evalue": "name 'KIRAN' is not defined",
          "output_type": "error",
          "traceback": [
            "\u001b[1;31m---------------------------------------------------------------------------\u001b[0m",
            "\u001b[1;31mNameError\u001b[0m                                 Traceback (most recent call last)",
            "Input \u001b[1;32mIn [44]\u001b[0m, in \u001b[0;36m<cell line: 5>\u001b[1;34m()\u001b[0m\n\u001b[0;32m      3\u001b[0m \u001b[38;5;28mprint\u001b[39m(KIRAN)\n\u001b[0;32m      4\u001b[0m \u001b[38;5;28;01mdel\u001b[39;00m KIRAN\n\u001b[1;32m----> 5\u001b[0m \u001b[38;5;28mprint\u001b[39m(\u001b[43mKIRAN\u001b[49m)\n",
            "\u001b[1;31mNameError\u001b[0m: name 'KIRAN' is not defined"
          ]
        }
      ],
      "source": [
        "KIRAN=[1,4,7,3,4]\n",
        "del KIRAN[1]\n",
        "print(KIRAN)\n",
        "del KIRAN\n",
        "print(KIRAN) #gives error as the list is deleted"
      ]
    },
    {
      "cell_type": "code",
      "execution_count": null,
      "id": "a9f8dd05",
      "metadata": {
        "id": "a9f8dd05",
        "outputId": "79f6d150-e970-4acf-8bfa-e8f44b0046ff"
      },
      "outputs": [
        {
          "name": "stdout",
          "output_type": "stream",
          "text": [
            "[]\n"
          ]
        }
      ],
      "source": [
        "KIRAN=[1,4,7,3,4]\n",
        "KIRAN.clear()\n",
        "print(KIRAN)"
      ]
    },
    {
      "cell_type": "code",
      "execution_count": null,
      "id": "beb5644e",
      "metadata": {
        "id": "beb5644e",
        "outputId": "43582110-f803-4264-b038-48555ddadc66"
      },
      "outputs": [
        {
          "name": "stdout",
          "output_type": "stream",
          "text": [
            "1\n",
            "4\n",
            "7\n",
            "3\n",
            "4\n"
          ]
        }
      ],
      "source": [
        "KIRAN=[1,4,7,3,4]\n",
        "for x in KIRAN:\n",
        "    print(x)"
      ]
    },
    {
      "cell_type": "code",
      "execution_count": null,
      "id": "f5af480d",
      "metadata": {
        "id": "f5af480d",
        "outputId": "1e2eb941-2b74-4454-b14c-910a45570350"
      },
      "outputs": [
        {
          "name": "stdout",
          "output_type": "stream",
          "text": [
            "apple\n",
            "orange\n",
            "water melon\n",
            "plum\n",
            "mango\n"
          ]
        }
      ],
      "source": [
        "KIRAN=[\"apple\",\"orange\",\"water melon\",\"plum\",\"mango\"]\n",
        "for x in range(len(KIRAN)):\n",
        "    print(KIRAN[x])"
      ]
    },
    {
      "cell_type": "code",
      "execution_count": null,
      "id": "d31700bb",
      "metadata": {
        "id": "d31700bb",
        "outputId": "063f1a27-25a7-4943-ef70-d156d7549784"
      },
      "outputs": [
        {
          "name": "stdout",
          "output_type": "stream",
          "text": [
            "apple\n",
            "orange\n",
            "water melon\n",
            "mango\n"
          ]
        }
      ],
      "source": [
        "KIRAN=[\"apple\",\"orange\",\"water melon\",\"plum\",\"mango\"]\n",
        "for x in KIRAN:\n",
        "    if \"a\" in x:\n",
        "        print(x)"
      ]
    },
    {
      "cell_type": "code",
      "execution_count": null,
      "id": "c70f3e64",
      "metadata": {
        "id": "c70f3e64",
        "outputId": "6f55b584-2978-47e9-9a21-1db4ce291b5b"
      },
      "outputs": [
        {
          "name": "stdout",
          "output_type": "stream",
          "text": [
            "apple\n",
            "orange\n",
            "water melon\n",
            "plum\n",
            "mango\n"
          ]
        }
      ],
      "source": [
        "KIRAN=[\"apple\",\"orange\",\"water melon\",\"plum\",\"mango\"]\n",
        "i=0\n",
        "while i<(len(KIRAN)):\n",
        "    print(KIRAN[i])\n",
        "    i=i+1"
      ]
    },
    {
      "cell_type": "code",
      "execution_count": null,
      "id": "5dc2fd62",
      "metadata": {
        "id": "5dc2fd62",
        "outputId": "de62b660-b046-412c-f3fc-da8951aae837"
      },
      "outputs": [
        {
          "name": "stdout",
          "output_type": "stream",
          "text": [
            "['apple', 'orange', 'water melon', 'mango']\n"
          ]
        }
      ],
      "source": [
        "KIRAN=[\"apple\",\"orange\",\"water melon\",\"plum\",\"mango\"]\n",
        "a=[]\n",
        "for x in KIRAN:\n",
        "    if \"a\" in x:\n",
        "        a.append(x)\n",
        "print(a)"
      ]
    },
    {
      "cell_type": "code",
      "execution_count": null,
      "id": "380e43a7",
      "metadata": {
        "id": "380e43a7",
        "outputId": "30df35a9-b2e5-486c-b9c9-e5aa32195099"
      },
      "outputs": [
        {
          "name": "stdout",
          "output_type": "stream",
          "text": [
            "['apple', 'mango', 'orange', 'plum', 'water melon']\n",
            "[1, 3, 4, 4, 7]\n",
            "['apple', 'orange', 'water melon', 'plum', 'mango']\n",
            "[7, 4, 4, 3, 1]\n"
          ]
        }
      ],
      "source": [
        "KIRAN=[\"apple\",\"orange\",\"water melon\",\"plum\",\"mango\"]\n",
        "KIRAN2=[1,4,7,3,4]\n",
        "KIRAN.sort()\n",
        "print(KIRAN)\n",
        "KIRAN2.sort()\n",
        "print(KIRAN2)\n",
        "KIRAN.sort(reverse=True)\n",
        "print(koushik)\n",
        "KIRAN2.sort(reverse=True)\n",
        "print(KIRAN2)"
      ]
    },
    {
      "cell_type": "code",
      "execution_count": null,
      "id": "f156e6f7",
      "metadata": {
        "id": "f156e6f7",
        "outputId": "71b12c60-4c5b-4cba-985c-7ec2e4f4e2fa"
      },
      "outputs": [
        {
          "name": "stdout",
          "output_type": "stream",
          "text": [
            "['apple', 'orange', 'water melon', 'plum', 'mango']\n",
            "[1, 4, 7, 3, 4]\n"
          ]
        }
      ],
      "source": [
        "KIRAN=[\"apple\",\"orange\",\"water melon\",\"plum\",\"mango\"]\n",
        "KIRAN2=[1,4,7,3,4]\n",
        "a=[]\n",
        "a=KIRAN.copy()\n",
        "print(a)\n",
        "b=list(KIRAN2)\n",
        "print(b)"
      ]
    },
    {
      "cell_type": "code",
      "execution_count": null,
      "id": "b915663f",
      "metadata": {
        "id": "b915663f",
        "outputId": "c93de0af-9fc0-4326-f5ab-242baab60b88"
      },
      "outputs": [
        {
          "name": "stdout",
          "output_type": "stream",
          "text": [
            "['apple', 'orange', 'water melon', 'plum', 'mango', 1, 4, 7, 3, 4]\n"
          ]
        }
      ],
      "source": [
        "KIRAN=[\"apple\",\"orange\",\"water melon\",\"plum\",\"mango\"]\n",
        "KIRAN2=[1,4,7,3,4]\n",
        "KIRAN3=KIRAN+KIRAN2\n",
        "print(KIRAN3)"
      ]
    },
    {
      "cell_type": "code",
      "execution_count": null,
      "id": "2227ae20",
      "metadata": {
        "id": "2227ae20",
        "outputId": "90d0ad22-d0ee-4c82-b1b5-23edeb8ac7d2"
      },
      "outputs": [
        {
          "name": "stdout",
          "output_type": "stream",
          "text": [
            "[1, 4, 7, 3, 4, 'apple', 'orange', 'water melon', 'plum', 'mango']\n"
          ]
        }
      ],
      "source": [
        "KIRAN=[\"apple\",\"orange\",\"water melon\",\"plum\",\"mango\"]\n",
        "KIRAN2=[1,4,7,3,4] \n",
        "KIRAN3=[]\n",
        "for x in KIRAN:\n",
        "    KIRAN2.append(x)\n",
        "print(KIRAN2)"
      ]
    },
    {
      "cell_type": "code",
      "execution_count": null,
      "id": "3baa9e56",
      "metadata": {
        "id": "3baa9e56",
        "outputId": "c00645bf-1513-491d-a807-9c37c594843d"
      },
      "outputs": [
        {
          "name": "stdout",
          "output_type": "stream",
          "text": [
            "[1, 4, 7, 3, 4, 'apple', 'orange', 'water melon', 'plum', 'mango']\n"
          ]
        }
      ],
      "source": [
        "KIRAN=[\"apple\",\"orange\",\"water melon\",\"plum\",\"mango\"]\n",
        "KIRAN2=[1,4,7,3,4] \n",
        "KIRAN2.extend(KIRAN)\n",
        "print(KIRAN2)"
      ]
    },
    {
      "cell_type": "code",
      "execution_count": null,
      "id": "df20173a",
      "metadata": {
        "id": "df20173a",
        "outputId": "5b3b0eb8-7464-4976-d369-f85b15c11830"
      },
      "outputs": [
        {
          "name": "stdout",
          "output_type": "stream",
          "text": [
            "[1, 4, 7, 3, 4, 'apple', 'orange', 'water melon', 'plum', 'mango', 1, 4, 7, 3, 4, 'apple', 'orange', 'water melon', 'plum', 'mango']\n"
          ]
        }
      ],
      "source": [
        "KIRAN=[\"apple\",\"orange\",\"water melon\",\"plum\",\"mango\"]\n",
        "KIRAN2=[1,4,7,3,4] \n",
        "KIRAN2.extend(KIRAN)\n",
        "print(KIRAN2*2)"
      ]
    }
  ],
  "metadata": {
    "kernelspec": {
      "display_name": "Python 3 (ipykernel)",
      "language": "python",
      "name": "python3"
    },
    "language_info": {
      "codemirror_mode": {
        "name": "ipython",
        "version": 3
      },
      "file_extension": ".py",
      "mimetype": "text/x-python",
      "name": "python",
      "nbconvert_exporter": "python",
      "pygments_lexer": "ipython3",
      "version": "3.10.4"
    },
    "colab": {
      "name": "PYTHON ASSIGMENT.ipynb",
      "provenance": [],
      "include_colab_link": true
    }
  },
  "nbformat": 4,
  "nbformat_minor": 5
}