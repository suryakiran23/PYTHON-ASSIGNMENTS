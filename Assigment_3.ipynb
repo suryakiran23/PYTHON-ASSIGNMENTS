{
  "cells": [
    {
      "cell_type": "markdown",
      "metadata": {
        "id": "view-in-github",
        "colab_type": "text"
      },
      "source": [
        "<a href=\"https://colab.research.google.com/github/suryakiran23/PYTHON-ASSIGNMENTS/blob/Assignment-3/Assigment_3.ipynb\" target=\"_parent\"><img src=\"https://colab.research.google.com/assets/colab-badge.svg\" alt=\"Open In Colab\"/></a>"
      ]
    },
    {
      "cell_type": "markdown",
      "id": "666f32e4",
      "metadata": {
        "id": "666f32e4"
      },
      "source": [
        "### Assignment-3"
      ]
    },
    {
      "cell_type": "code",
      "execution_count": null,
      "id": "b401352d",
      "metadata": {
        "id": "b401352d",
        "outputId": "29b040b4-d1bb-42e4-c2ff-ba8614b9fb4a"
      },
      "outputs": [
        {
          "name": "stdout",
          "output_type": "stream",
          "text": [
            "8.0\n"
          ]
        }
      ],
      "source": [
        "##1)write a python program to find power of number with recursion and without recursion(input n=2 , p=3)\n",
        "import math\n",
        "n=2;p=3\n",
        "print(math.pow(2,3))"
      ]
    },
    {
      "cell_type": "code",
      "execution_count": null,
      "id": "f4e0355f",
      "metadata": {
        "id": "f4e0355f",
        "outputId": "c59c0b7b-c001-48f5-dc7e-c70969af67d3"
      },
      "outputs": [
        {
          "name": "stdout",
          "output_type": "stream",
          "text": [
            "[(1, 2), (3, 4, 6, 723), (134, 234, 34)]\n"
          ]
        }
      ],
      "source": [
        "##2)write a program to sort tuple by total digits (input: list=[(3,4,6,723),(1,2),(134,234,34)])output:[(1,2)(3,4,6,723)(34,134,234)]\n",
        "list=[(3,4,6,723),(1,2),(134,234,34)]\n",
        "list.sort()\n",
        "print(list)"
      ]
    },
    {
      "cell_type": "code",
      "execution_count": null,
      "id": "0e0311b1",
      "metadata": {
        "id": "0e0311b1",
        "outputId": "4ac07c0b-23d6-4ef2-f23e-9f11497f14c8"
      },
      "outputs": [
        {
          "name": "stdout",
          "output_type": "stream",
          "text": [
            "mark of the student 1 \n",
            "enter the subject marks: 6\n",
            "enter the subject marks: 6\n",
            "enter the subject marks: 6\n",
            "enter the subject marks: 6\n",
            "enter the subject marks: 6\n",
            "FAIL\n"
          ]
        }
      ],
      "source": [
        "##3)take five subjects from the user and display the grade of the student,if average is 90-100(o),80-89(a+),70-79(a)...\n",
        "print(\"mark of the student 1 \")\n",
        "s1=int(input(\"enter the subject marks: \"))\n",
        "s2=int(input(\"enter the subject marks: \"))\n",
        "s3=int(input(\"enter the subject marks: \"))\n",
        "s4=int(input(\"enter the subject marks: \"))\n",
        "s5=int(input(\"enter the subject marks: \"))\n",
        "total=s1+s2+s3+s4+s5\n",
        "if total>90 and total<100:\n",
        "    print(\"o GRADE\")\n",
        "elif total>80 and total<89:\n",
        "    print(\"a+ GRADE\")\n",
        "elif total>70 and total<79:\n",
        "    print(\"a GRADE\")\n",
        "elif total>60 and total<69:\n",
        "    print(\"b GRADE\")\n",
        "else:\n",
        "    print(\"FAIL\")"
      ]
    },
    {
      "cell_type": "code",
      "execution_count": null,
      "id": "fc4a8b4e",
      "metadata": {
        "id": "fc4a8b4e",
        "outputId": "23b85105-725d-4cfa-fe56-d08c39f9a66f"
      },
      "outputs": [
        {
          "name": "stdout",
          "output_type": "stream",
          "text": [
            "enter the number3\n",
            "enter the number4\n",
            "enter the number5\n",
            "1\n"
          ]
        }
      ],
      "source": [
        "##4)write a python program that prints 1 if all three given numbers are ascending order.\n",
        "a=int(input(\"enter the number\"))\n",
        "b=int(input(\"enter the number\"))\n",
        "c=int(input(\"enter the number\"))\n",
        "d=[a,b,c]\n",
        "k=d.copy()\n",
        "d.sort()\n",
        "e=d.copy()\n",
        "if k==e:\n",
        "    print(\"1\")\n",
        "else:\n",
        "    print(\"0\")"
      ]
    },
    {
      "cell_type": "code",
      "execution_count": null,
      "id": "24a1f0ee",
      "metadata": {
        "id": "24a1f0ee",
        "outputId": "ff97b99c-c26d-47e2-ff50-2e20c8618adc"
      },
      "outputs": [
        {
          "name": "stdout",
          "output_type": "stream",
          "text": [
            "enter the number28\n",
            "perfect number\n"
          ]
        }
      ],
      "source": [
        "##5)check a given number is perfect number are not\n",
        "a=int(input(\"enter the number\"))\n",
        "sum=0\n",
        "for i in range (1,a):\n",
        "    if a%i==0:\n",
        "        sum=sum+i\n",
        "if sum==a:\n",
        "        print(\"perfect number\")\n",
        "else:\n",
        "        print(\"not a perfect number\")\n",
        "        "
      ]
    },
    {
      "cell_type": "code",
      "execution_count": null,
      "id": "aa59d7a0",
      "metadata": {
        "id": "aa59d7a0",
        "outputId": "bfa175c6-2def-41af-84d3-6f3e52f752b3"
      },
      "outputs": [
        {
          "name": "stdout",
          "output_type": "stream",
          "text": [
            "enter the number you want to find palindrome for32\n",
            "not a plaindrome\n"
          ]
        }
      ],
      "source": [
        "## 6)check a given string is a pallindrome or not\n",
        "a=int(input(\"enter the number you want to find palindrome for\"))\n",
        "rev=0\n",
        "temp=a\n",
        "while temp>0:\n",
        "    rem=temp%10\n",
        "    rev=(rev*10)+rem\n",
        "    temp=temp//10\n",
        "if a==rev:\n",
        "    print(\"palindrome\")\n",
        "else:\n",
        "    print(\"not a plaindrome\")"
      ]
    },
    {
      "cell_type": "code",
      "execution_count": null,
      "id": "57b62227",
      "metadata": {
        "id": "57b62227",
        "outputId": "649d131f-66ae-4ab6-f4f5-1a0cba15edd6"
      },
      "outputs": [
        {
          "name": "stdout",
          "output_type": "stream",
          "text": [
            "Enter first number:5\n",
            "Enter second number:3\n",
            "GCD is: \n",
            "1\n"
          ]
        }
      ],
      "source": [
        "##7)find the gcd of two numbers with and without recursion(5,3=1)\n",
        "##with recursion\n",
        "def gcd(a,b):\n",
        "    if(b==0):\n",
        "        return a\n",
        "    else:\n",
        "        return gcd(b,a%b)\n",
        "a=int(input(\"Enter first number:\"))\n",
        "b=int(input(\"Enter second number:\"))\n",
        "GCD=gcd(a,b)\n",
        "print(\"GCD is: \")\n",
        "print(GCD)"
      ]
    },
    {
      "cell_type": "code",
      "execution_count": null,
      "id": "b1e55fe7",
      "metadata": {
        "id": "b1e55fe7",
        "outputId": "d7033d37-2ec4-4d59-d705-912159fbbbda"
      },
      "outputs": [
        {
          "name": "stdout",
          "output_type": "stream",
          "text": [
            "Enter 1st number: 5\n",
            "Enter 2nd number: 3\n",
            "GCD is 1\n"
          ]
        }
      ],
      "source": [
        "##without recursion\n",
        "num1 = int(input(\"Enter 1st number: \"))\n",
        "num2 = int(input(\"Enter 2nd number: \"))\n",
        "gcd=1\n",
        "while (i <= num1 and i <= num2):\n",
        "  if(num1 % i == 0 and num2 % i == 0):\n",
        "    gcd = i\n",
        "  i = i + 1\n",
        "print(\"GCD is\",gcd)"
      ]
    },
    {
      "cell_type": "code",
      "execution_count": null,
      "id": "5f517b82",
      "metadata": {
        "id": "5f517b82",
        "outputId": "28d2e871-55cf-49e4-8bf4-354dfe59dd09"
      },
      "outputs": [
        {
          "name": "stdout",
          "output_type": "stream",
          "text": [
            "Enter a number:123654\n",
            "12\n"
          ]
        }
      ],
      "source": [
        "##8)print sum of even digits in a given number\n",
        "n = int(input(\"Enter a number:\"))\n",
        "\n",
        "a= 0\n",
        "\n",
        "while n > 0:\n",
        "    i = n % 10\n",
        "    if i % 2 == 0:\n",
        "        a = a + i\n",
        "    n=n//10\n",
        "print(a)"
      ]
    },
    {
      "cell_type": "code",
      "execution_count": null,
      "id": "d8bad9f1",
      "metadata": {
        "id": "d8bad9f1",
        "outputId": "c98e622c-3c46-46cf-c552-f82d82020090"
      },
      "outputs": [
        {
          "name": "stdout",
          "output_type": "stream",
          "text": [
            "enter the number123\n",
            "6\n"
          ]
        }
      ],
      "source": [
        "##9)calculate the product of digits of a number\n",
        "a=int(input(\"enter the number\"))\n",
        "fact=1\n",
        "while a>0:\n",
        "    i=a%10\n",
        "    fact=fact*i\n",
        "    a=a//10\n",
        "print(fact)"
      ]
    },
    {
      "cell_type": "code",
      "execution_count": null,
      "id": "a10159ad",
      "metadata": {
        "id": "a10159ad",
        "outputId": "2b094cf8-2e6b-4b0a-8f4a-51a1c87f141b"
      },
      "outputs": [
        {
          "name": "stdout",
          "output_type": "stream",
          "text": [
            "14.0\n"
          ]
        }
      ],
      "source": [
        "##10)write a program to calculate the sum of squares given by user(123=14)\n",
        "import math\n",
        "a=[1,2,3]\n",
        "sum=0\n",
        "for x in a:\n",
        "    sum=sum+math.pow(x,2)\n",
        "print(sum)"
      ]
    },
    {
      "cell_type": "code",
      "execution_count": null,
      "id": "9bf3801c",
      "metadata": {
        "id": "9bf3801c"
      },
      "outputs": [],
      "source": [
        "##11)given a string is s= abcdefcba how many times ith character from the front equals last ith element print(countfrontbackmatches('abcdefcba'))\n",
        "s=\"abcdefcba\"\n",
        "n=len(s)\n",
        "i=0\n",
        "for x in range(len(s)):\n",
        "    if s[x]==s[n-1]:\n",
        "        print(s[x])\n",
        "        i=i+1\n",
        "    x=x+1\n",
        "    n=n-1\n",
        "print(\"number of digits which are in same sequence is:\",i)"
      ]
    },
    {
      "cell_type": "code",
      "execution_count": null,
      "id": "d7a060b2",
      "metadata": {
        "id": "d7a060b2"
      },
      "outputs": [],
      "source": [
        "##12)given an integer n, return a list containing 1223334444.. and finaly n repeated n times(n>0) print(repeatnumtimes(4))\n"
      ]
    },
    {
      "cell_type": "code",
      "execution_count": null,
      "id": "9164041e",
      "metadata": {
        "id": "9164041e",
        "outputId": "328b347f-0982-40ea-f811-d60a5633f2c0"
      },
      "outputs": [
        {
          "name": "stdout",
          "output_type": "stream",
          "text": [
            "vowels 5\n",
            "consonents 10\n"
          ]
        }
      ],
      "source": [
        "##13)print number of vowels and consonents in a given string(gitam university)\n",
        "a=\"gitamuniversity\"\n",
        "b=[\"i\",\"a\",\"e\",\"o\",\"U\"]\n",
        "v=0\n",
        "c=0\n",
        "for x in a:\n",
        "    if x in b:\n",
        "        v=v+1\n",
        "    else:\n",
        "        c=c+1\n",
        "print(\"vowels\",v)\n",
        "print(\"consonents\",c)"
      ]
    },
    {
      "cell_type": "code",
      "execution_count": null,
      "id": "bfa7a819",
      "metadata": {
        "id": "bfa7a819",
        "outputId": "bdb4a949-ad3b-422a-dc56-3feeb9bf7b55"
      },
      "outputs": [
        {
          "name": "stdout",
          "output_type": "stream",
          "text": [
            "enter the number3\n",
            "enter the last number6\n",
            "3\n",
            "4\n",
            "5\n",
            "6\n"
          ]
        }
      ],
      "source": [
        "##14)given wo integers a and b.if a <b ,print all numbers between in ascending order.if a>b print all numbers between in decending order\n",
        "a=int(input(\"enter the number\"))\n",
        "b=int(input(\"enter the last number\"))\n",
        "if a>b:\n",
        "  for x in range(a,b-1,-1):\n",
        "    print(x)\n",
        "else:\n",
        "  for x in range(a,b+1):\n",
        "    print(x)"
      ]
    },
    {
      "cell_type": "code",
      "execution_count": null,
      "id": "c32b26ba",
      "metadata": {
        "id": "c32b26ba",
        "outputId": "7a8f198a-f4d1-44d5-a428-6414bb47df9b"
      },
      "outputs": [
        {
          "name": "stdout",
          "output_type": "stream",
          "text": [
            "enter the number6\n",
            "enter number two3\n",
            "enter the third number2\n",
            "a is max\n"
          ]
        }
      ],
      "source": [
        "##15)program to print greatest of three numbers\n",
        "a=int(input(\"enter the number\"));b=int(input(\"enter number two\"));c=int(input(\"enter the third number\"))\n",
        "if a>b and a>c:\n",
        "    print(\"a is max\")\n",
        "elif b>a and b>c :\n",
        "    print(\"b is max\")\n",
        "else :\n",
        "    print(\"c is max\")"
      ]
    },
    {
      "cell_type": "code",
      "execution_count": null,
      "id": "3714e1a5",
      "metadata": {
        "id": "3714e1a5"
      },
      "outputs": [],
      "source": [
        "##16)write a program to print numbers of strings where the string length is 2 or more and the fist and last are same from given input\n"
      ]
    },
    {
      "cell_type": "code",
      "execution_count": null,
      "id": "66fff72d",
      "metadata": {
        "id": "66fff72d"
      },
      "outputs": [],
      "source": [
        "##17)round trip of 3+3=6 km.no of days and no of round trips.<40000 meters (need to walk more ) >40000 meters (good job)\n"
      ]
    },
    {
      "cell_type": "code",
      "execution_count": null,
      "id": "5f1ef344",
      "metadata": {
        "id": "5f1ef344"
      },
      "outputs": [],
      "source": [
        "##18)given alist of students l and a charter, display thenames of the students whose first character is a gien character print(student details([]))\n"
      ]
    },
    {
      "cell_type": "code",
      "execution_count": null,
      "id": "90cb2cb0",
      "metadata": {
        "id": "90cb2cb0"
      },
      "outputs": [],
      "source": [
        "##19)given a list of city names whose length is greater than the given length"
      ]
    },
    {
      "cell_type": "code",
      "execution_count": null,
      "id": "296b13dd",
      "metadata": {
        "id": "296b13dd",
        "outputId": "d894acc5-ab3e-4edc-fd87-372d36c49dfa"
      },
      "outputs": [
        {
          "name": "stdout",
          "output_type": "stream",
          "text": [
            "29\n",
            "31\n",
            "37\n",
            "41\n",
            "43\n",
            "47\n"
          ]
        }
      ],
      "source": [
        "##20)write a progam to print prime numbers in given range by using functions(25,50).\n",
        "def prime():\n",
        "  for i in range(25,50):\n",
        "          c=0\n",
        "          for x in range(1,i+1):\n",
        "           \n",
        "           if i%x==0:\n",
        "             c=c+1\n",
        "          if c<=2:\n",
        "            print(i)\n",
        "prime() "
      ]
    },
    {
      "cell_type": "code",
      "execution_count": null,
      "id": "1131a352",
      "metadata": {
        "id": "1131a352",
        "outputId": "d2d3fd2f-bd0a-4c46-c436-67e4951e2057"
      },
      "outputs": [
        {
          "name": "stdout",
          "output_type": "stream",
          "text": [
            "enter the number: 6\n",
            "30\n"
          ]
        }
      ],
      "source": [
        "##21)write program to read any month in integer and display days for that month.\n",
        "a=int(input(\"enter the number: \"))\n",
        "b=[4,6,9,11]\n",
        "if a==2:\n",
        "  print(\"28/29\")\n",
        "elif a in b:\n",
        "  print(\"30\")\n",
        "elif a>=13or a<1:\n",
        "  print(\"enter correct choice\")\n",
        "else:\n",
        "  print(\"31\")"
      ]
    },
    {
      "cell_type": "code",
      "execution_count": null,
      "id": "4959c361",
      "metadata": {
        "id": "4959c361",
        "outputId": "d774baba-66c3-42cb-b646-6fe2d29fa27f"
      },
      "outputs": [
        {
          "name": "stdout",
          "output_type": "stream",
          "text": [
            "this\n",
            "is\n",
            "python\n"
          ]
        }
      ],
      "source": [
        "##22)write a python program to print even length words in string. input:   \" this is a python class output: this is python\n",
        "a=\"this is a python class\"\n",
        "b=[2,4,6,8,10,12,14,16,18,20]\n",
        "for x in a.split():\n",
        "  if len(x) in b:\n",
        "    print (x)                        \n",
        "                        "
      ]
    },
    {
      "cell_type": "code",
      "execution_count": null,
      "id": "c1631bcc",
      "metadata": {
        "id": "c1631bcc",
        "outputId": "9be411c0-43e2-4001-db5a-24ee79d6a145"
      },
      "outputs": [
        {
          "name": "stdout",
          "output_type": "stream",
          "text": [
            "Hi\n",
            "Okay\n",
            "End\n"
          ]
        }
      ],
      "source": [
        "##23)write a program to read a string from user display first chacter of each word with capital letter.\n",
        "a=\"hi okay end\"\n",
        "for x in a.split():\n",
        "  print(x.capitalize())"
      ]
    },
    {
      "cell_type": "code",
      "execution_count": null,
      "id": "cf998ed4",
      "metadata": {
        "id": "cf998ed4"
      },
      "outputs": [],
      "source": [
        "##24)write a python program to captalise the first and last of each word\n"
      ]
    },
    {
      "cell_type": "code",
      "execution_count": null,
      "id": "edcc8c31",
      "metadata": {
        "id": "edcc8c31",
        "outputId": "d5e34652-1def-4863-e8fd-404589203d12"
      },
      "outputs": [
        {
          "name": "stdout",
          "output_type": "stream",
          "text": [
            "enter list of intergers: [11,22,33]\n",
            "112233\n"
          ]
        }
      ],
      "source": [
        "##25)write a python program to convert a list of multiple integers into a single line.\n",
        "           ##input:[11,22,33]\n",
        "           ##output:112233\n",
        "a=eval(input(\"enter list of intergers: \"))\n",
        "b=\"\"\n",
        "for i in a :\n",
        "  b+=str(i)\n",
        "print(b)\n",
        "##a=[121,123,145]\n",
        "##b=\"\"\n",
        "##for x in a:\n",
        "   ## b=b+str(x)\n",
        "##print(b)"
      ]
    }
  ],
  "metadata": {
    "kernelspec": {
      "display_name": "Python 3 (ipykernel)",
      "language": "python",
      "name": "python3"
    },
    "language_info": {
      "codemirror_mode": {
        "name": "ipython",
        "version": 3
      },
      "file_extension": ".py",
      "mimetype": "text/x-python",
      "name": "python",
      "nbconvert_exporter": "python",
      "pygments_lexer": "ipython3",
      "version": "3.10.4"
    },
    "colab": {
      "name": "Assigment-3.ipynb",
      "provenance": [],
      "include_colab_link": true
    }
  },
  "nbformat": 4,
  "nbformat_minor": 5
}